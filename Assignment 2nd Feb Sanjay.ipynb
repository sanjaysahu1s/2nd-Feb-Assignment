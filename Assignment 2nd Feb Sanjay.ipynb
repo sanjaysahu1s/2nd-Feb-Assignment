{
 "cells": [
  {
   "cell_type": "markdown",
   "id": "8f376554-a10b-4b2d-9b91-1056c9b89ee9",
   "metadata": {},
   "source": [
    "Assignment 2nd Feb: Sanjay kumar sahu (sanjaysahu64544@gmail.com)"
   ]
  },
  {
   "cell_type": "code",
   "execution_count": null,
   "id": "958de924-a81a-4cbd-b15c-eb4b2cd9454e",
   "metadata": {},
   "outputs": [],
   "source": [
    "Q1. Explain with an example each when to use a for loop and a while loop."
   ]
  },
  {
   "cell_type": "markdown",
   "id": "d67cc85c-8178-46e9-a654-d60cc051be02",
   "metadata": {},
   "source": [
    "For loop = A for loop is useful when you want to repeat a specific set of code a fixed number of times and it is used when you know \n",
    "the exact number of iterations you need to perform.\n",
    "\n",
    "Example of using a for loop:"
   ]
  },
  {
   "cell_type": "code",
   "execution_count": 9,
   "id": "6e891a12-807f-4ea2-a441-20ff3b88519e",
   "metadata": {},
   "outputs": [
    {
     "name": "stdout",
     "output_type": "stream",
     "text": [
      "0\n",
      "1\n",
      "2\n"
     ]
    }
   ],
   "source": [
    "for i in range(3):\n",
    "    print(i)"
   ]
  },
  {
   "cell_type": "markdown",
   "id": "ece8a60d-3502-4939-8def-927ab3b0ae5c",
   "metadata": {},
   "source": [
    "This is because the loop will run three times, with the value of i being 0, 1, and 2 in each iteration respectively."
   ]
  },
  {
   "cell_type": "markdown",
   "id": "c2a20def-756a-48be-a747-b30213329605",
   "metadata": {},
   "source": [
    "While loop = while loop is useful when you need to repeat a block of code an unknown number of times.\n",
    "\n",
    "Example of using a while loop:"
   ]
  },
  {
   "cell_type": "code",
   "execution_count": 10,
   "id": "1caadac8-834e-462f-afba-e4bc5431ad1d",
   "metadata": {},
   "outputs": [
    {
     "name": "stdout",
     "output_type": "stream",
     "text": [
      "0\n",
      "1\n",
      "2\n",
      "3\n"
     ]
    }
   ],
   "source": [
    "i = 0\n",
    "while i < 4:\n",
    "    print(i)\n",
    "    i += 1\n"
   ]
  },
  {
   "cell_type": "markdown",
   "id": "ad95a586-b2b0-4364-b921-2f95c2cb9366",
   "metadata": {},
   "source": [
    "This code will also print the numbers 0 to 3, because the loop will continue running until the condition i < 4 is no longer true. In this case, i is incremented each time the loop runs until it reaches 4, which then terminates the loop."
   ]
  },
  {
   "cell_type": "markdown",
   "id": "7145f2cd-a43a-4aca-9e72-b872445a29f8",
   "metadata": {},
   "source": [
    "\n",
    "\n",
    "                            ------------------------------------------------\n",
    "                            ------------------------------------------------\n",
    "                            \n",
    "                            "
   ]
  },
  {
   "cell_type": "code",
   "execution_count": null,
   "id": "625b2d82-97e8-465a-b0a2-f13054cf9f71",
   "metadata": {},
   "outputs": [],
   "source": [
    "Q2. Write a python program to print the sum and product of the first 10 natural numbers using for\n",
    "and while loop."
   ]
  },
  {
   "cell_type": "markdown",
   "id": "1d45bb5d-47dd-4674-a32a-9bd5d7ab3b53",
   "metadata": {},
   "source": [
    "Using a for loop:"
   ]
  },
  {
   "cell_type": "code",
   "execution_count": 8,
   "id": "0e1b13ce-5bf9-4180-9f7f-b7c365bd4536",
   "metadata": {},
   "outputs": [
    {
     "name": "stdout",
     "output_type": "stream",
     "text": [
      "Sum of first 10 natural numbers using for loop: 55\n",
      "Product of first 10 natural numbers using for loop: 3628800\n"
     ]
    }
   ],
   "source": [
    "sum = 0\n",
    "for i in range(1, 11):\n",
    "    sum += i\n",
    "\n",
    "print(\"Sum of first 10 natural numbers using for loop:\", sum)\n",
    "\n",
    "product = 1\n",
    "for i in range(1, 11):\n",
    "    \n",
    "    product *= i\n",
    "\n",
    "print(\"Product of first 10 natural numbers using for loop:\", product)\n"
   ]
  },
  {
   "cell_type": "markdown",
   "id": "48ca01c3-78cd-42e3-998e-4e5daa6628f8",
   "metadata": {},
   "source": [
    "Using a while loop:"
   ]
  },
  {
   "cell_type": "code",
   "execution_count": 9,
   "id": "24b8e487-6208-44a5-942c-f1d4ddb6cfcf",
   "metadata": {},
   "outputs": [
    {
     "name": "stdout",
     "output_type": "stream",
     "text": [
      "Sum of first 10 natural numbers using while loop: 55\n",
      "Product of first 10 natural numbers using while loop: 3628800\n"
     ]
    }
   ],
   "source": [
    "sum = 0\n",
    "i = 1\n",
    "while i <= 10:\n",
    "    sum += i\n",
    "    i += 1\n",
    "\n",
    "print(\"Sum of first 10 natural numbers using while loop:\", sum)\n",
    "\n",
    "product = 1\n",
    "i = 1\n",
    "while i <= 10:\n",
    "    product *= i\n",
    "    \n",
    "    i += 1\n",
    "\n",
    "print(\"Product of first 10 natural numbers using while loop:\", product)\n"
   ]
  },
  {
   "cell_type": "markdown",
   "id": "7059be55-86da-4ee7-822d-defa2c4fea10",
   "metadata": {},
   "source": [
    "\n",
    "\n",
    "                            ------------------------------------------------\n",
    "                            ------------------------------------------------\n",
    "                            \n",
    "                            "
   ]
  },
  {
   "cell_type": "code",
   "execution_count": null,
   "id": "eb71c812-daab-43b0-b7f9-43dc8cef29cf",
   "metadata": {},
   "outputs": [],
   "source": [
    "Q3. Create a python program to compute the electricity bill for a household.\n",
    "The per-unit charges in rupees are as follows: For the first 100 units, the user will be charged Rs. 4.5 per\n",
    "unit, for the next 100 units, the user will be charged Rs. 6 per unit, and for the next 100 units, the user will\n",
    "be charged Rs. 10 per unit, After 300 units and above the user will be charged Rs. 20 per unit."
   ]
  },
  {
   "cell_type": "code",
   "execution_count": 5,
   "id": "5fc79d10-4e9c-4bfa-8884-196adeb9731d",
   "metadata": {},
   "outputs": [
    {
     "name": "stdin",
     "output_type": "stream",
     "text": [
      "Enter the number of units consumed:  310\n"
     ]
    },
    {
     "name": "stdout",
     "output_type": "stream",
     "text": [
      "Your electricity bill is Rs. 2250.0\n"
     ]
    }
   ],
   "source": [
    "units = int(input(\"Enter the number of units consumed: \"))\n",
    "\n",
    "bill_amount = 0\n",
    "\n",
    "if units <= 100:\n",
    "    bill_amount = units * 4.5\n",
    "    \n",
    "elif units <= 200:\n",
    "    \n",
    "    bill_amount = 100 * 4.5 + (units - 100) * 6\n",
    "elif units <= 300:\n",
    "    bill_amount = 100 * 4.5 + 100 * 6 + (units - 200) * 10\n",
    "    \n",
    "    \n",
    "else:\n",
    "    bill_amount = 100 * 4.5 + 100 * 6 + 100 * 10 + (units - 300) * 20\n",
    "\n",
    "print(\"Your electricity bill is Rs.\", bill_amount)\n"
   ]
  },
  {
   "cell_type": "markdown",
   "id": "91c0241c-9630-4b28-989a-d43b9186bf13",
   "metadata": {},
   "source": [
    "\n",
    "\n",
    "                            ------------------------------------------------\n",
    "                            ------------------------------------------------\n",
    "                            \n",
    "                            "
   ]
  },
  {
   "cell_type": "code",
   "execution_count": null,
   "id": "a6196335-d5fd-4e40-8074-b108c72a56b9",
   "metadata": {},
   "outputs": [],
   "source": [
    "Q4. Create a list of numbers from 1 to 100. Use for loop and while loop to calculate the cube of each\n",
    "number and if the cube of that number is divisible by 4 or 5 then append that number in a list and print\n",
    "that list."
   ]
  },
  {
   "cell_type": "markdown",
   "id": "09414945-24ea-4404-bed4-03cbb53c7240",
   "metadata": {},
   "source": [
    "Using a for loop:"
   ]
  },
  {
   "cell_type": "code",
   "execution_count": 11,
   "id": "d082f293-3b17-4543-b7fa-d58e4a08bcb0",
   "metadata": {},
   "outputs": [
    {
     "name": "stdout",
     "output_type": "stream",
     "text": [
      "[2, 4, 5, 6, 8, 10, 12, 14, 15, 16, 18, 20, 22, 24, 25, 26, 28, 30, 32, 34, 35, 36, 38, 40, 42, 44, 45, 46, 48, 50, 52, 54, 55, 56, 58, 60, 62, 64, 65, 66, 68, 70, 72, 74, 75, 76, 78, 80, 82, 84, 85, 86, 88, 90, 92, 94, 95, 96, 98, 100]\n"
     ]
    }
   ],
   "source": [
    "num_list = list(range(1, 101))\n",
    "\n",
    "result_list = []\n",
    "\n",
    "for num in num_list:\n",
    "    \n",
    "    cube = num ** 3\n",
    "    \n",
    "    if cube % 4 == 0 or cube % 5 == 0:\n",
    "        result_list.append(num)\n",
    "\n",
    "print(result_list)\n"
   ]
  },
  {
   "cell_type": "markdown",
   "id": "74232dc6-0b18-4af6-b052-1ae5f7cb502f",
   "metadata": {},
   "source": [
    "Using a while loop:"
   ]
  },
  {
   "cell_type": "code",
   "execution_count": 4,
   "id": "cc72bfde-1e3d-41df-95dc-01536505b7b2",
   "metadata": {},
   "outputs": [
    {
     "name": "stdout",
     "output_type": "stream",
     "text": [
      "[2, 4, 5, 6, 8, 10, 12, 14, 15, 16, 18, 20, 22, 24, 25, 26, 28, 30, 32, 34, 35, 36, 38, 40, 42, 44, 45, 46, 48, 50, 52, 54, 55, 56, 58, 60, 62, 64, 65, 66, 68, 70, 72, 74, 75, 76, 78, 80, 82, 84, 85, 86, 88, 90, 92, 94, 95, 96, 98, 100]\n"
     ]
    }
   ],
   "source": [
    "num_list = list(range(1, 101))\n",
    "\n",
    "result_list = []\n",
    "\n",
    "i = 0\n",
    "\n",
    "\n",
    "\n",
    "while i < len(num_list):\n",
    "    \n",
    "    num = num_list[i]\n",
    "    cube = num ** 3\n",
    "    \n",
    "    if cube % 4 == 0 or cube % 5 == 0:\n",
    "        result_list.append(num)\n",
    "    \n",
    "    i += 1\n",
    "\n",
    "print(result_list)\n"
   ]
  },
  {
   "cell_type": "markdown",
   "id": "b101a198-17e4-4f15-bd56-4c54f7f03cf1",
   "metadata": {},
   "source": [
    "\n",
    "\n",
    "                            ------------------------------------------------\n",
    "                            ------------------------------------------------\n",
    "                            \n",
    "                            "
   ]
  },
  {
   "cell_type": "code",
   "execution_count": null,
   "id": "9e47d377-867b-41ad-835f-8122df174435",
   "metadata": {},
   "outputs": [],
   "source": [
    "Q5. Write a program to filter count vowels in the below-given string.\n",
    "string = \"I want to become a data scientist\""
   ]
  },
  {
   "cell_type": "code",
   "execution_count": 3,
   "id": "282e8d4c-2143-46f0-bf59-82ec6ece3032",
   "metadata": {},
   "outputs": [
    {
     "name": "stdout",
     "output_type": "stream",
     "text": [
      "The number of vowels in the string is: 12\n"
     ]
    }
   ],
   "source": [
    "string = \"I want to become a data scientist\"\n",
    "\n",
    "vowel_count = 0\n",
    "\n",
    "\n",
    "\n",
    "vowels = {'a',   'e', 'i',  'o', 'u'}\n",
    " \n",
    "\n",
    "for char in string:\n",
    "    \n",
    "    if char.lower() in vowels:\n",
    "        vowel_count += 1\n",
    "\n",
    "print(\"The number of vowels in the string is:\", vowel_count)\n"
   ]
  },
  {
   "cell_type": "markdown",
   "id": "216a58d0-4205-4afa-83b1-5c9704e1848f",
   "metadata": {},
   "source": [
    "\n",
    "\n",
    "                            ------------------------------------------------\n",
    "                            ------------------------------------------------\n",
    "                            \n",
    "                            "
   ]
  }
 ],
 "metadata": {
  "kernelspec": {
   "display_name": "Python 3 (ipykernel)",
   "language": "python",
   "name": "python3"
  },
  "language_info": {
   "codemirror_mode": {
    "name": "ipython",
    "version": 3
   },
   "file_extension": ".py",
   "mimetype": "text/x-python",
   "name": "python",
   "nbconvert_exporter": "python",
   "pygments_lexer": "ipython3",
   "version": "3.10.8"
  }
 },
 "nbformat": 4,
 "nbformat_minor": 5
}
